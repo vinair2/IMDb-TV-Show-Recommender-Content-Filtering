{
 "cells": [
  {
   "cell_type": "markdown",
   "id": "1f44a1f6",
   "metadata": {},
   "source": [
    "# Content-Based Filtering Recommender System"
   ]
  },
  {
   "cell_type": "code",
   "execution_count": 62,
   "id": "0c04563e",
   "metadata": {},
   "outputs": [],
   "source": [
    "import numpy as np\n",
    "import pandas as pd"
   ]
  },
  {
   "cell_type": "code",
   "execution_count": 63,
   "id": "72a818e9",
   "metadata": {
    "scrolled": true
   },
   "outputs": [
    {
     "data": {
      "text/html": [
       "<div>\n",
       "<style scoped>\n",
       "    .dataframe tbody tr th:only-of-type {\n",
       "        vertical-align: middle;\n",
       "    }\n",
       "\n",
       "    .dataframe tbody tr th {\n",
       "        vertical-align: top;\n",
       "    }\n",
       "\n",
       "    .dataframe thead th {\n",
       "        text-align: right;\n",
       "    }\n",
       "</style>\n",
       "<table border=\"1\" class=\"dataframe\">\n",
       "  <thead>\n",
       "    <tr style=\"text-align: right;\">\n",
       "      <th></th>\n",
       "      <th>Title</th>\n",
       "      <th>Rating</th>\n",
       "      <th>Overview</th>\n",
       "    </tr>\n",
       "  </thead>\n",
       "  <tbody>\n",
       "    <tr>\n",
       "      <th>0</th>\n",
       "      <td>Game of Thrones</td>\n",
       "      <td>9.2</td>\n",
       "      <td>Nine noble families fight for control over the...</td>\n",
       "    </tr>\n",
       "    <tr>\n",
       "      <th>1</th>\n",
       "      <td>Breaking Bad</td>\n",
       "      <td>9.5</td>\n",
       "      <td>A chemistry teacher diagnosed with inoperable ...</td>\n",
       "    </tr>\n",
       "    <tr>\n",
       "      <th>2</th>\n",
       "      <td>Stranger Things</td>\n",
       "      <td>8.7</td>\n",
       "      <td>When a young boy disappears, his mother, a pol...</td>\n",
       "    </tr>\n",
       "    <tr>\n",
       "      <th>3</th>\n",
       "      <td>The Walking Dead</td>\n",
       "      <td>8.1</td>\n",
       "      <td>Sheriff Deputy Rick Grimes wakes up from a com...</td>\n",
       "    </tr>\n",
       "    <tr>\n",
       "      <th>4</th>\n",
       "      <td>Friends</td>\n",
       "      <td>8.9</td>\n",
       "      <td>Follows the personal and professional lives of...</td>\n",
       "    </tr>\n",
       "    <tr>\n",
       "      <th>5</th>\n",
       "      <td>Sherlock</td>\n",
       "      <td>9.1</td>\n",
       "      <td>The quirky spin on Conan Doyle's iconic sleuth...</td>\n",
       "    </tr>\n",
       "    <tr>\n",
       "      <th>6</th>\n",
       "      <td>The Big Bang Theory</td>\n",
       "      <td>8.2</td>\n",
       "      <td>A woman who moves into an apartment across the...</td>\n",
       "    </tr>\n",
       "    <tr>\n",
       "      <th>7</th>\n",
       "      <td>Dexter</td>\n",
       "      <td>8.7</td>\n",
       "      <td>He's smart. He's lovable. He's Dexter Morgan, ...</td>\n",
       "    </tr>\n",
       "    <tr>\n",
       "      <th>8</th>\n",
       "      <td>How I Met Your Mother</td>\n",
       "      <td>8.3</td>\n",
       "      <td>A father recounts to his children - through a ...</td>\n",
       "    </tr>\n",
       "    <tr>\n",
       "      <th>9</th>\n",
       "      <td>The Office</td>\n",
       "      <td>9.0</td>\n",
       "      <td>A mockumentary on a group of typical office wo...</td>\n",
       "    </tr>\n",
       "  </tbody>\n",
       "</table>\n",
       "</div>"
      ],
      "text/plain": [
       "                   Title  Rating  \\\n",
       "0        Game of Thrones     9.2   \n",
       "1           Breaking Bad     9.5   \n",
       "2        Stranger Things     8.7   \n",
       "3       The Walking Dead     8.1   \n",
       "4                Friends     8.9   \n",
       "5               Sherlock     9.1   \n",
       "6    The Big Bang Theory     8.2   \n",
       "7                 Dexter     8.7   \n",
       "8  How I Met Your Mother     8.3   \n",
       "9             The Office     9.0   \n",
       "\n",
       "                                            Overview  \n",
       "0  Nine noble families fight for control over the...  \n",
       "1  A chemistry teacher diagnosed with inoperable ...  \n",
       "2  When a young boy disappears, his mother, a pol...  \n",
       "3  Sheriff Deputy Rick Grimes wakes up from a com...  \n",
       "4  Follows the personal and professional lives of...  \n",
       "5  The quirky spin on Conan Doyle's iconic sleuth...  \n",
       "6  A woman who moves into an apartment across the...  \n",
       "7  He's smart. He's lovable. He's Dexter Morgan, ...  \n",
       "8  A father recounts to his children - through a ...  \n",
       "9  A mockumentary on a group of typical office wo...  "
      ]
     },
     "execution_count": 63,
     "metadata": {},
     "output_type": "execute_result"
    }
   ],
   "source": [
    "tvShowData = pd.read_csv('/Users/vinai/Documents/imdbSideProject/imdbTVShows.csv', encoding='latin-1')\n",
    "tvShowData.head(10)"
   ]
  },
  {
   "cell_type": "markdown",
   "id": "8fc4bec9",
   "metadata": {},
   "source": [
    "# TFIDF and Cosine Similarity"
   ]
  },
  {
   "cell_type": "code",
   "execution_count": 64,
   "id": "ba0be4d4",
   "metadata": {},
   "outputs": [],
   "source": [
    "from sklearn.feature_extraction.text import TfidfVectorizer\n",
    "from sklearn.metrics.pairwise import cosine_similarity"
   ]
  },
  {
   "cell_type": "code",
   "execution_count": 65,
   "id": "35af4dd6",
   "metadata": {
    "scrolled": true
   },
   "outputs": [
    {
     "data": {
      "text/plain": [
       "(5000, 14608)"
      ]
     },
     "execution_count": 65,
     "metadata": {},
     "output_type": "execute_result"
    }
   ],
   "source": [
    "tfidf = TfidfVectorizer(stop_words='english')\n",
    "overviewMatrix = tfidf.fit_transform(tvShowData['Overview'])\n",
    "overviewMatrix.shape"
   ]
  },
  {
   "cell_type": "code",
   "execution_count": 66,
   "id": "a0036f3b",
   "metadata": {
    "scrolled": true
   },
   "outputs": [
    {
     "data": {
      "text/plain": [
       "array([[1.        , 0.        , 0.        , ..., 0.        , 0.        ,\n",
       "        0.        ],\n",
       "       [0.        , 1.        , 0.05341487, ..., 0.        , 0.        ,\n",
       "        0.        ],\n",
       "       [0.        , 0.05341487, 1.        , ..., 0.        , 0.        ,\n",
       "        0.03406602],\n",
       "       ...,\n",
       "       [0.        , 0.        , 0.        , ..., 1.        , 0.        ,\n",
       "        0.        ],\n",
       "       [0.        , 0.        , 0.        , ..., 0.        , 1.        ,\n",
       "        0.        ],\n",
       "       [0.        , 0.        , 0.03406602, ..., 0.        , 0.        ,\n",
       "        1.        ]])"
      ]
     },
     "execution_count": 66,
     "metadata": {},
     "output_type": "execute_result"
    }
   ],
   "source": [
    "cosSimMatrix = cosine_similarity(overviewMatrix, overviewMatrix)\n",
    "cosSimMatrix"
   ]
  },
  {
   "cell_type": "code",
   "execution_count": 81,
   "id": "8e835514",
   "metadata": {},
   "outputs": [],
   "source": [
    "def tvShowRecommender(input):\n",
    "    inputIndex = tvShowData[tvShowData['Title'] == input].index[0]\n",
    "    simScores = cosSimMatrix[inputIndex]\n",
    "    simShowSort = simScores.argsort()[::-1]\n",
    "    simShowSort = simShowSort[1:21] \n",
    "    \n",
    "    recommendedShows = [tvShowData.loc[index, 'Title'] for index in simShowSort if index != inputIndex]\n",
    "    recommendedShows = [tvShowData.loc[index, 'Title'] for index in simShowSort if index != inputIndex]\n",
    "    top5_recommended_shows = sorted(recommendedShows, key=lambda x: tvShowData.loc[tvShowData['Title'] == x, 'Rating'].values[0], reverse=True)[:5]\n",
    "    \n",
    "    print(\"Recommended TV Shows:\")\n",
    "    \n",
    "    for show in top5_recommended_shows:\n",
    "        rating = tvShowData.loc[tvShowData['Title'] == show, 'Rating'].values[0]\n",
    "        print(f\"{show} - Rating: {rating}\")"
   ]
  },
  {
   "cell_type": "code",
   "execution_count": 85,
   "id": "8c999d69",
   "metadata": {
    "scrolled": true
   },
   "outputs": [
    {
     "name": "stdout",
     "output_type": "stream",
     "text": [
      "Recommended TV Shows:\n",
      "Dark Side of the Ring - Rating: 8.7\n",
      "American Crime Story - Rating: 8.4\n",
      "The Midnight Gospel - Rating: 8.2\n",
      "Clone High - Rating: 8.1\n",
      "Cunk on Earth - Rating: 8.1\n"
     ]
    }
   ],
   "source": [
    "tvShowRecommender('Black Mirror')"
   ]
  }
 ],
 "metadata": {
  "kernelspec": {
   "display_name": "Python 3 (ipykernel)",
   "language": "python",
   "name": "python3"
  },
  "language_info": {
   "codemirror_mode": {
    "name": "ipython",
    "version": 3
   },
   "file_extension": ".py",
   "mimetype": "text/x-python",
   "name": "python",
   "nbconvert_exporter": "python",
   "pygments_lexer": "ipython3",
   "version": "3.10.9"
  }
 },
 "nbformat": 4,
 "nbformat_minor": 5
}
